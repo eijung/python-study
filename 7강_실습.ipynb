{
  "nbformat": 4,
  "nbformat_minor": 0,
  "metadata": {
    "colab": {
      "provenance": [],
      "authorship_tag": "ABX9TyOeea7Eyw6oPzV+npa9GNq8",
      "include_colab_link": true
    },
    "kernelspec": {
      "name": "python3",
      "display_name": "Python 3"
    },
    "language_info": {
      "name": "python"
    }
  },
  "cells": [
    {
      "cell_type": "markdown",
      "metadata": {
        "id": "view-in-github",
        "colab_type": "text"
      },
      "source": [
        "<a href=\"https://colab.research.google.com/github/eijung/python-study/blob/main/7%EA%B0%95_%EC%8B%A4%EC%8A%B5.ipynb\" target=\"_parent\"><img src=\"https://colab.research.google.com/assets/colab-badge.svg\" alt=\"Open In Colab\"/></a>"
      ]
    },
    {
      "cell_type": "markdown",
      "source": [],
      "metadata": {
        "id": "TcwXUrFuzbDB"
      }
    },
    {
      "cell_type": "code",
      "execution_count": 4,
      "metadata": {
        "colab": {
          "base_uri": "https://localhost:8080/"
        },
        "id": "gr-81Zf5zatE",
        "outputId": "e2f73815-5546-43ea-8c2d-469d8483e978"
      },
      "outputs": [
        {
          "output_type": "stream",
          "name": "stdout",
          "text": [
            "저는 파이썬을 잘 다룰 수 있습니다.\n",
            "저는 파이썬을 잘 다룰 수 있습니다.\n",
            "저는 파이썬을 잘 다룰 수 있습니다.\n",
            "저는 파이썬을 잘 다룰 수 있습니다.\n",
            "저는 파이썬을 잘 다룰 수 있습니다.\n"
          ]
        }
      ],
      "source": [
        "#메시지 저장\n",
        "msg = \"저는 파이썬을 잘 다룰 수 있습니다.\"\n",
        "\n",
        "#5번 반복 출력\n",
        "count = 1\n",
        "while count <= 5 :\n",
        "    print(msg)\n",
        "    count = count + 1"
      ]
    },
    {
      "cell_type": "markdown",
      "source": [
        "7강 1절"
      ],
      "metadata": {
        "id": "s0n6TBbr1OUk"
      }
    },
    {
      "cell_type": "code",
      "source": [
        "num = int(input(\"어디까지 더 할까요? \"))\n",
        "\n",
        "sum = 0\n",
        "i = 1\n",
        "\n",
        "while i <= num : \n",
        "  sum = sum + i\n",
        "  i = i + 1\n",
        "\n",
        "print(sum)"
      ],
      "metadata": {
        "id": "QdmNbktLziNR",
        "colab": {
          "base_uri": "https://localhost:8080/"
        },
        "outputId": "09e401d3-0338-41fb-fba5-2ebbcc1d5a8b"
      },
      "execution_count": 7,
      "outputs": [
        {
          "output_type": "stream",
          "name": "stdout",
          "text": [
            "어디까지 더 할까요? 10\n",
            "55\n"
          ]
        }
      ]
    },
    {
      "cell_type": "markdown",
      "source": [
        "사용자가 입력한 단의 구구단 출력 문제"
      ],
      "metadata": {
        "id": "3RsU9Sw12BA7"
      }
    },
    {
      "cell_type": "code",
      "source": [
        "base = int(input(\"출력할 단을 입력하세요.\"))\n",
        "\n",
        "i = 1\n",
        "while i <= 9:\n",
        "  print(base, \"X\", i, \"=\", base * i)\n",
        "  i = i + 1"
      ],
      "metadata": {
        "colab": {
          "base_uri": "https://localhost:8080/"
        },
        "id": "Zkyb4fOu2FGw",
        "outputId": "d502170f-af3b-49b2-84a7-76ce11ab5a8a"
      },
      "execution_count": 9,
      "outputs": [
        {
          "output_type": "stream",
          "name": "stdout",
          "text": [
            "출력할 단을 입력하세요.6\n",
            "6 X 1 = 6\n",
            "6 X 2 = 12\n",
            "6 X 3 = 18\n",
            "6 X 4 = 24\n",
            "6 X 5 = 30\n",
            "6 X 6 = 36\n",
            "6 X 7 = 42\n",
            "6 X 8 = 48\n",
            "6 X 9 = 54\n"
          ]
        }
      ]
    },
    {
      "cell_type": "markdown",
      "source": [
        "7강 2절"
      ],
      "metadata": {
        "id": "dQJQgz065GBk"
      }
    },
    {
      "cell_type": "code",
      "source": [
        "#리스트 생성\n",
        "hei_list = [1, 4, 14, 26, 31]\n",
        "\n",
        "for hei in hei_list :\n",
        "  print(hei)"
      ],
      "metadata": {
        "colab": {
          "base_uri": "https://localhost:8080/"
        },
        "id": "XLmgoqTd5LXy",
        "outputId": "7330deaf-88a4-4deb-ed83-1f6e19bb76b5"
      },
      "execution_count": 10,
      "outputs": [
        {
          "output_type": "stream",
          "name": "stdout",
          "text": [
            "1\n",
            "4\n",
            "14\n",
            "26\n",
            "31\n"
          ]
        }
      ]
    },
    {
      "cell_type": "markdown",
      "source": [
        "반지름은 10이고 높이가 1, 5, 14, 26, 31인 원뿔의 부피와 겉넓이를 각각 출력하는 문제"
      ],
      "metadata": {
        "id": "jxHyrwHb5ado"
      }
    },
    {
      "cell_type": "code",
      "source": [
        "rad = 10\n",
        "hei_list = [1, 5, 14, 26, 31]\n",
        "\n",
        "for hei in hei_list :\n",
        "    #부피&겉넓이 계산\n",
        "    vol = 1/3 * 3.14 * rad ** 2 * hei\n",
        "    surf = 3.14 * rad ** 2 + 3.14 * rad * hei\n",
        "    print(\"반지름\", rad, \"높이\", hei, \"원뿔\")\n",
        "    print(\"원뿔의 부피는\", vol, \"입니다.\")\n",
        "    print(\"원뿔의 겉넓이는\", surf, \"입니다.\")"
      ],
      "metadata": {
        "colab": {
          "base_uri": "https://localhost:8080/"
        },
        "id": "vpSjg-Nw5i-Y",
        "outputId": "a5c65549-80c3-4be2-af0b-1add9b7bba7a"
      },
      "execution_count": 11,
      "outputs": [
        {
          "output_type": "stream",
          "name": "stdout",
          "text": [
            "반지름 10 높이 1 원뿔\n",
            "원뿔의 부피는 104.66666666666666 입니다.\n",
            "원뿔의 겉넓이는 345.4 입니다.\n",
            "반지름 10 높이 5 원뿔\n",
            "원뿔의 부피는 523.3333333333333 입니다.\n",
            "원뿔의 겉넓이는 471.0 입니다.\n",
            "반지름 10 높이 14 원뿔\n",
            "원뿔의 부피는 1465.3333333333333 입니다.\n",
            "원뿔의 겉넓이는 753.6 입니다.\n",
            "반지름 10 높이 26 원뿔\n",
            "원뿔의 부피는 2721.333333333333 입니다.\n",
            "원뿔의 겉넓이는 1130.4 입니다.\n",
            "반지름 10 높이 31 원뿔\n",
            "원뿔의 부피는 3244.6666666666665 입니다.\n",
            "원뿔의 겉넓이는 1287.4 입니다.\n"
          ]
        }
      ]
    },
    {
      "cell_type": "markdown",
      "source": [
        "**7강 3절**\n",
        "반지름의 높이가 (10,1), (20,5), (30,14)인 원뿔의 부피와 겉넓이를 각각 출력하는 문제"
      ],
      "metadata": {
        "id": "2Iq7f7nb7iFc"
      }
    },
    {
      "cell_type": "code",
      "source": [
        "rad_list = range(10, 40, 10)\n",
        "hei_list = [1, 5, 14]\n",
        "\n",
        "for rad, hei in zip(rad_list, hei_list) :\n",
        "    #부피&겉넓이 계산\n",
        "    vol = 1/3 * 3.14 * rad ** 2 * hei\n",
        "    surf = 3.14 * rad ** 2 + 3.14 * rad * hei\n",
        "    print(\"반지름\", rad, \"높이\", hei, \"원뿔\")\n",
        "    print(\"원뿔의 부피는\", vol, \"입니다.\")\n",
        "    print(\"원뿔의 겉넓이는\", surf, \"입니다.\")"
      ],
      "metadata": {
        "colab": {
          "base_uri": "https://localhost:8080/"
        },
        "id": "gHiQNJpz7sp3",
        "outputId": "1aa02254-02a7-499e-fe97-f6b014b037be"
      },
      "execution_count": 13,
      "outputs": [
        {
          "output_type": "stream",
          "name": "stdout",
          "text": [
            "반지름 10 높이 1 원뿔\n",
            "원뿔의 부피는 104.66666666666666 입니다.\n",
            "원뿔의 겉넓이는 345.4 입니다.\n",
            "반지름 20 높이 5 원뿔\n",
            "원뿔의 부피는 2093.333333333333 입니다.\n",
            "원뿔의 겉넓이는 1570.0 입니다.\n",
            "반지름 30 높이 14 원뿔\n",
            "원뿔의 부피는 13188.0 입니다.\n",
            "원뿔의 겉넓이는 4144.8 입니다.\n"
          ]
        }
      ]
    },
    {
      "cell_type": "markdown",
      "source": [
        "구구단 표를 출력하는 문제"
      ],
      "metadata": {
        "id": "IH_4V_SE99Mj"
      }
    },
    {
      "cell_type": "code",
      "source": [
        "print(format(\"구구단표\",\">20s\"))\n",
        "\n",
        "#표 머리 출력\n",
        "print(\"  l\", end = \"\")\n",
        "for j in range(1, 10):\n",
        "    print(\"  \", j, end = \"\")\n",
        "#새로운 행 삽입\n",
        "print()\n",
        "print(\"-----------------------------------------------\")\n",
        "\n",
        "#구구단 표 출력\n",
        "for i in range(1, 10, 1) :\n",
        "    print(i, \"l\", end = \"\")\n",
        "    for j in range(1, 10, ) :\n",
        "        print(format(i * j,\">4d\"), end = \"\")\n",
        "    print()"
      ],
      "metadata": {
        "colab": {
          "base_uri": "https://localhost:8080/"
        },
        "id": "d1fHvOKw9_gh",
        "outputId": "c34360d9-c96b-49db-971c-69bd37a89cc7"
      },
      "execution_count": 25,
      "outputs": [
        {
          "output_type": "stream",
          "name": "stdout",
          "text": [
            "                구구단표\n",
            "  l   1   2   3   4   5   6   7   8   9\n",
            "-----------------------------------------------\n",
            "1 l   1   2   3   4   5   6   7   8   9\n",
            "2 l   2   4   6   8  10  12  14  16  18\n",
            "3 l   3   6   9  12  15  18  21  24  27\n",
            "4 l   4   8  12  16  20  24  28  32  36\n",
            "5 l   5  10  15  20  25  30  35  40  45\n",
            "6 l   6  12  18  24  30  36  42  48  54\n",
            "7 l   7  14  21  28  35  42  49  56  63\n",
            "8 l   8  16  24  32  40  48  56  64  72\n",
            "9 l   9  18  27  36  45  54  63  72  81\n"
          ]
        }
      ]
    },
    {
      "cell_type": "code",
      "source": [],
      "metadata": {
        "id": "8G3a00fU-L9P"
      },
      "execution_count": null,
      "outputs": []
    }
  ]
}