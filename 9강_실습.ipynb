{
  "nbformat": 4,
  "nbformat_minor": 0,
  "metadata": {
    "colab": {
      "provenance": [],
      "authorship_tag": "ABX9TyNz1bX6EIh2wgdVY8k866DI",
      "include_colab_link": true
    },
    "kernelspec": {
      "name": "python3",
      "display_name": "Python 3"
    },
    "language_info": {
      "name": "python"
    }
  },
  "cells": [
    {
      "cell_type": "markdown",
      "metadata": {
        "id": "view-in-github",
        "colab_type": "text"
      },
      "source": [
        "<a href=\"https://colab.research.google.com/github/eijung/python-study/blob/main/9%EA%B0%95_%EC%8B%A4%EC%8A%B5.ipynb\" target=\"_parent\"><img src=\"https://colab.research.google.com/assets/colab-badge.svg\" alt=\"Open In Colab\"/></a>"
      ]
    },
    {
      "cell_type": "markdown",
      "source": [
        "원뿔 부피 계산 함수 호출"
      ],
      "metadata": {
        "id": "_Y-8TVN01sC4"
      }
    },
    {
      "cell_type": "code",
      "execution_count": 1,
      "metadata": {
        "id": "jk0gqVXLzNuh"
      },
      "outputs": [],
      "source": [
        "def prt_cone_vol(r, h) : \n",
        "    if r > 0 and h > 0 :\n",
        "        #r, h 모두 양수일 때\n",
        "        vol = 1/3 * 3.14 * r ** 2 * h\n",
        "        print(\"원뿔의 부피는\", vol, \"입니다.\")\n",
        "    else : \n",
        "        #r, h가 음수일 때\n",
        "        print(\"반지름과 높이 값에 양수를 입력하세요\")"
      ]
    },
    {
      "cell_type": "code",
      "source": [
        "radius = 20\n",
        "height = 30\n",
        "\n",
        "prt_cone_vol(radius, height)"
      ],
      "metadata": {
        "colab": {
          "base_uri": "https://localhost:8080/"
        },
        "id": "l1vVLcyi2d4x",
        "outputId": "6b58346a-5d1c-4670-c7c4-ae3f643b84e7"
      },
      "execution_count": 2,
      "outputs": [
        {
          "output_type": "stream",
          "name": "stdout",
          "text": [
            "원뿔의 부피는 12559.999999999998 입니다.\n"
          ]
        }
      ]
    },
    {
      "cell_type": "markdown",
      "source": [
        "숫자를 입력받고 역순으로 출력하는 함수를 사용한 프로그램 문제"
      ],
      "metadata": {
        "id": "pHUj9p5t2pVB"
      }
    },
    {
      "cell_type": "code",
      "source": [
        "\n",
        "num = 1234\n",
        "\n",
        "def reverse_number(num) :\n",
        "    while num != 0 :\n",
        "        digit = num % 10\n",
        "        num = num // 10\n",
        "        print(digit, end=\"\")\n",
        "\n",
        "reverse_number(num)"
      ],
      "metadata": {
        "colab": {
          "base_uri": "https://localhost:8080/"
        },
        "id": "SuBqhAqB2tVF",
        "outputId": "8d314229-d350-4b6d-9df5-6dac5212757d"
      },
      "execution_count": 5,
      "outputs": [
        {
          "output_type": "stream",
          "name": "stdout",
          "text": [
            "4321"
          ]
        }
      ]
    },
    {
      "cell_type": "markdown",
      "source": [
        "**9강 2절**"
      ],
      "metadata": {
        "id": "zmGNb6Bt5PAN"
      }
    },
    {
      "cell_type": "code",
      "source": [
        "def rtn_cone_vol_surf(r, h) : \n",
        "    if r > 0 and h > 0 :\n",
        "        #r, h 모두 양수일 때\n",
        "        vol = 1/3 * 3.14 * r ** 2 * h\n",
        "        surf = 3.14 * r ** 2 + 3.14 * r * h\n",
        "        return vol, surf\n",
        "    else : \n",
        "        #r, h가 음수일 때\n",
        "        print(\"반지름과 높이 값에 양수를 입력하세요\")\n",
        "\n",
        "vol1, surf1 = rtn_cone_vol_surf(50, 100)\n",
        "print(vol1, \"입니다.\")\n",
        "print(surf1, \"입니다.\")"
      ],
      "metadata": {
        "colab": {
          "base_uri": "https://localhost:8080/"
        },
        "id": "o07Ap7Et5SxL",
        "outputId": "13b851e7-540e-42ff-89a9-691167216668"
      },
      "execution_count": 10,
      "outputs": [
        {
          "output_type": "stream",
          "name": "stdout",
          "text": [
            "261666.66666666666 입니다.\n",
            "23550.0 입니다.\n"
          ]
        }
      ]
    },
    {
      "cell_type": "markdown",
      "source": [
        "세 개의 사용자 입력을 오름차순으로 정렬하는 함수를 이용하여 정렬된 값을 출력하는 문"
      ],
      "metadata": {
        "id": "wVB132MI7pKh"
      }
    },
    {
      "cell_type": "code",
      "source": [
        "a = int(input(\"첫번째 숫자를 입력하세요: \"))\n",
        "b = int(input(\"두번째 숫자를 입력하세요: \"))\n",
        "c = int(input(\"세번째 숫자를 입력하세요: \"))\n",
        "\n",
        "def sort3(a, b, c) :\n",
        "    if a > b :\n",
        "        a, b = b, a\n",
        "    if a > c :\n",
        "        a, c = c, a\n",
        "    if b > c :\n",
        "        b, c = c, b\n",
        "\n",
        "        print(a, b, c)\n",
        "\n",
        "sort3(a, b, c)\n",
        "print(\"출력이후\", a, b, c)"
      ],
      "metadata": {
        "colab": {
          "base_uri": "https://localhost:8080/"
        },
        "id": "6CfZflXM7uoF",
        "outputId": "300785f3-fb3a-489c-b1cf-a9dbbbd5e32a"
      },
      "execution_count": 14,
      "outputs": [
        {
          "output_type": "stream",
          "name": "stdout",
          "text": [
            "첫번째 숫자를 입력하세요: 18\n",
            "두번째 숫자를 입력하세요: 34\n",
            "세번째 숫자를 입력하세요: 28\n",
            "18 28 34\n",
            "출력이후 18 34 28\n"
          ]
        }
      ]
    },
    {
      "cell_type": "markdown",
      "source": [
        "값의 전달"
      ],
      "metadata": {
        "id": "2ZeES7AL_4PD"
      }
    },
    {
      "cell_type": "code",
      "source": [
        "def rtn_cone_vol(r, h) : \n",
        "    if r > 0 and h > 0 :\n",
        "        #r, h 모두 양수일 때\n",
        "        vol = 1/3 * 3.14 * r ** 2 * h\n",
        "        r, h = 0, 0\n",
        "        return vol\n",
        "    else : \n",
        "        #r, h가 음수일 때\n",
        "        print(\"반지름과 높이 값에 양수를 입력하세요\")\n",
        "\n",
        "r = 50\n",
        "h = 100\n",
        "print(format( rtn_cone_vol(r, h), \">10.3f\"))\n",
        "print(\"함수사용후\", r, h)"
      ],
      "metadata": {
        "colab": {
          "base_uri": "https://localhost:8080/"
        },
        "id": "YlS1XFuN_5Fo",
        "outputId": "6e04f067-a8f9-43f5-c934-ec1dfd7e8dd4"
      },
      "execution_count": 23,
      "outputs": [
        {
          "output_type": "stream",
          "name": "stdout",
          "text": [
            "261666.667\n",
            "함수사용후 50 100\n"
          ]
        }
      ]
    },
    {
      "cell_type": "markdown",
      "source": [
        "변수의 스코프"
      ],
      "metadata": {
        "id": "UCOgLi6FBiVU"
      }
    },
    {
      "cell_type": "code",
      "source": [
        "x = 1\n",
        "print(\"1. x의 값은\", x)\n",
        "\n",
        "def inc(x) :\n",
        "    x = x + 1\n",
        "    print(\"2. x의 값은\", x)\n",
        "\n",
        "inc(x)\n",
        "print(\"3. x의 값은\", x)"
      ],
      "metadata": {
        "colab": {
          "base_uri": "https://localhost:8080/"
        },
        "id": "ZQVGYFYMBksF",
        "outputId": "991bdcb7-01e3-4d1b-909f-525e99dcac58"
      },
      "execution_count": 24,
      "outputs": [
        {
          "output_type": "stream",
          "name": "stdout",
          "text": [
            "1. x의 값은 1\n",
            "2. x의 값은 2\n",
            "3. x의 값은 1\n"
          ]
        }
      ]
    },
    {
      "cell_type": "markdown",
      "source": [
        "단위 원뿔(반지름 20, 높이 30)의 부피와 겉넓이를 출력하는 문제"
      ],
      "metadata": {
        "id": "PsZfo0lIB_b4"
      }
    },
    {
      "cell_type": "code",
      "source": [
        "#원뿔 계산 함수 정의\n",
        "def rtn_cone_vol(r = 20, h = 30) : \n",
        "    if r > 0 and h > 0 :\n",
        "        #r, h 모두 양수일 때\n",
        "        return 1/3 * 3.14 * r ** 2 * h, 3.14 * r ** 2 + 3.14 * r * h\n",
        "    else : \n",
        "        #r, h가 음수일 때\n",
        "        print(\"반지름과 높이 값에 양수를 입력하세요\")\n",
        "\n",
        "print(rtn_cone_vol())"
      ],
      "metadata": {
        "colab": {
          "base_uri": "https://localhost:8080/"
        },
        "id": "l-f3nW_CCFB4",
        "outputId": "7983206b-8710-4423-9673-9a4d9501cc24"
      },
      "execution_count": 25,
      "outputs": [
        {
          "output_type": "stream",
          "name": "stdout",
          "text": [
            "(12559.999999999998, 3140.0)\n"
          ]
        }
      ]
    },
    {
      "cell_type": "markdown",
      "source": [
        "여러개의 수를 입력받고 합과 평균을 반환하는 var_sum_avg 함수를 사용하여, (20,25, 10, 85, 100, 150)에 대한 합과 평균을 출력하는 프로그램을 작성하시오."
      ],
      "metadata": {
        "id": "JU4XyL2tCcxC"
      }
    },
    {
      "cell_type": "code",
      "source": [
        "def var_sum_avg(*numbers) :\n",
        "    sum = 0\n",
        "    count = 0\n",
        "\n",
        "    for i in numbers :\n",
        "        sum = sum + i\n",
        "        count = count + 1\n",
        "\n",
        "    return sum, sum/count\n",
        "\n",
        "print(var_sum_avg(20, 25, 10, 85, 100, 150))"
      ],
      "metadata": {
        "colab": {
          "base_uri": "https://localhost:8080/"
        },
        "id": "MzCOZGhkClDC",
        "outputId": "cdabe234-caad-4dc7-beb8-9a119318ceaa"
      },
      "execution_count": 27,
      "outputs": [
        {
          "output_type": "stream",
          "name": "stdout",
          "text": [
            "(390, 65.0)\n"
          ]
        }
      ]
    }
  ]
}