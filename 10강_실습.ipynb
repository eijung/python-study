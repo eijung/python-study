{
  "nbformat": 4,
  "nbformat_minor": 0,
  "metadata": {
    "colab": {
      "provenance": [],
      "authorship_tag": "ABX9TyNrum8i8FfGyToHx8SivT6D",
      "include_colab_link": true
    },
    "kernelspec": {
      "name": "python3",
      "display_name": "Python 3"
    },
    "language_info": {
      "name": "python"
    }
  },
  "cells": [
    {
      "cell_type": "markdown",
      "metadata": {
        "id": "view-in-github",
        "colab_type": "text"
      },
      "source": [
        "<a href=\"https://colab.research.google.com/github/eijung/python-study/blob/main/10%EA%B0%95_%EC%8B%A4%EC%8A%B5.ipynb\" target=\"_parent\"><img src=\"https://colab.research.google.com/assets/colab-badge.svg\" alt=\"Open In Colab\"/></a>"
      ]
    },
    {
      "cell_type": "markdown",
      "source": [
        "**10강 1절**\n"
      ],
      "metadata": {
        "id": "fDYrcs3M8XrO"
      }
    },
    {
      "cell_type": "markdown",
      "source": [
        "원뿔 클래스를 작성하시오"
      ],
      "metadata": {
        "id": "mhD1KQxe9q3k"
      }
    },
    {
      "cell_type": "code",
      "execution_count": 1,
      "metadata": {
        "id": "trnCIF128Aux"
      },
      "outputs": [],
      "source": [
        "class Cone :\n",
        "    def __init__(self, radius = 20, height = 30) :\n",
        "        self.r = radius\n",
        "        self.h = height\n",
        "\n",
        "    def get_vol(self) :\n",
        "        return 1/3 * 3.14 * self.r ** 2 * self.h\n",
        "\n",
        "    def get_surf(self) :\n",
        "        return 3.14 * self.r ** 2 + 3.14 * self.r * self.h\n"
      ]
    },
    {
      "cell_type": "code",
      "source": [
        "class BMI :\n",
        "    def __init__(self, name, age, weight, height) :\n",
        "        self.name = name\n",
        "        self.age = age\n",
        "        self.weight = weight\n",
        "        self.height = height\n",
        "\n",
        "    def get_BMI(self) :\n",
        "        return self.weight / (self.height / 100) ** 2\n",
        "\n",
        "    def get_status(self) :\n",
        "        BMI = self.get_BMI()\n",
        "\n",
        "        if BMI >= 25 :\n",
        "            return \"비만\"\n",
        "        elif BMI >= 23 and BMI < 25 :\n",
        "            return \"과체중\"\n",
        "        elif BMI >= 18.5 and BMI < 23 :\n",
        "            return \"정상\"\n",
        "        else :\n",
        "            return \"저체중\""
      ],
      "metadata": {
        "id": "06jv9yZp-q2U"
      },
      "execution_count": 26,
      "outputs": []
    },
    {
      "cell_type": "markdown",
      "source": [
        "**10강 2절**"
      ],
      "metadata": {
        "id": "f66PK1pmBCpc"
      }
    },
    {
      "cell_type": "markdown",
      "source": [
        "단위 원뿔과 반지름, 높이가 50,100인 원뿔의 부피과 겉넓이를 출력하는 프로그램을 작성하시"
      ],
      "metadata": {
        "id": "540PP8A3BEeX"
      }
    },
    {
      "cell_type": "code",
      "source": [
        "unit_cone = Cone()\n",
        "big_cone = Cone(50, 100)\n",
        "\n",
        "print(\"단위 원뿔의 겉넓이와 부피는\", unit_cone.get_surf(),  unit_cone.get_vol(), \" 입니다.\")\n",
        "print(\"단위 원뿔의 겉넓이와 부피는\", big_cone.get_surf(),  big_cone.get_vol(), \" 입니다.\")"
      ],
      "metadata": {
        "colab": {
          "base_uri": "https://localhost:8080/"
        },
        "id": "fRgb1R1qBK2J",
        "outputId": "44680975-ce11-4c54-ea5e-d4937d82561f"
      },
      "execution_count": 6,
      "outputs": [
        {
          "output_type": "stream",
          "name": "stdout",
          "text": [
            "단위 원뿔의 겉넓이와 부피는 3140.0 12559.999999999998  입니다.\n",
            "단위 원뿔의 겉넓이와 부피는 23550.0 261666.66666666666  입니다.\n"
          ]
        }
      ]
    },
    {
      "cell_type": "markdown",
      "source": [
        "가상의 이름, 나이 , 몸무게, 키로 BMI 객체를 사용하는 프로그램을 작성하시오"
      ],
      "metadata": {
        "id": "Lg2tEb3rBvdV"
      }
    },
    {
      "cell_type": "code",
      "source": [
        "person1 = BMI(\"홍길동\", 40, 78, 182)\n",
        "\n",
        "print(person1.name + \"님(\" + str(person1.age) + \"세)의 BMI 수치는\", person1.get_BMI(), \"결과는\", person1.get_status(), \"입니다\")"
      ],
      "metadata": {
        "colab": {
          "base_uri": "https://localhost:8080/"
        },
        "id": "2QZmKb2vB0eE",
        "outputId": "1eca2646-ce51-4396-ce66-5f24643fb938"
      },
      "execution_count": 27,
      "outputs": [
        {
          "output_type": "stream",
          "name": "stdout",
          "text": [
            "홍길동님(40세)의 BMI 수치는 23.54788069073783 결과는 과체중 입니다\n"
          ]
        }
      ]
    },
    {
      "cell_type": "markdown",
      "source": [
        "**10강 3절**"
      ],
      "metadata": {
        "id": "wTxNC373EqWb"
      }
    },
    {
      "cell_type": "code",
      "source": [
        "class pCone :\n",
        "    def __init__(self, radius = 20, height = 30) :\n",
        "        if radius > 0 and height > 0 :\n",
        "            self.__r = radius\n",
        "            self.__h = height\n",
        "\n",
        "    def get_vol(self) :\n",
        "        return 1/3 * 3.14 * self.__r ** 2 * self.__h\n",
        "\n",
        "    def get_surf(self) :\n",
        "        return 3.14 * self.__r ** 2 + 3.14 * self.__r * self.__h\n",
        "\n",
        "    def get_radius(self) :\n",
        "        return self.__r\n",
        "\n",
        "    def set_raduis(self, radius) :\n",
        "        if radius > 0 :\n",
        "            self.__r = radius"
      ],
      "metadata": {
        "id": "IVCYxiFkEv_1"
      },
      "execution_count": 18,
      "outputs": []
    },
    {
      "cell_type": "code",
      "source": [
        "perfect_cone = pCone(100,200)\n",
        "perfect_cone.get_surf()"
      ],
      "metadata": {
        "colab": {
          "base_uri": "https://localhost:8080/"
        },
        "id": "8Xbz5sK-FGDp",
        "outputId": "5d3f780a-3932-4992-f00a-8a567690dfab"
      },
      "execution_count": 17,
      "outputs": [
        {
          "output_type": "execute_result",
          "data": {
            "text/plain": [
              "94200.0"
            ]
          },
          "metadata": {},
          "execution_count": 17
        }
      ]
    }
  ]
}