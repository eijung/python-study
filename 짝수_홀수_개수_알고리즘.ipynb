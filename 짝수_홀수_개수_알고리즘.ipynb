{
  "nbformat": 4,
  "nbformat_minor": 0,
  "metadata": {
    "colab": {
      "provenance": [],
      "authorship_tag": "ABX9TyNsTjcPQtxic7ILubNy7YDR",
      "include_colab_link": true
    },
    "kernelspec": {
      "name": "python3",
      "display_name": "Python 3"
    },
    "language_info": {
      "name": "python"
    }
  },
  "cells": [
    {
      "cell_type": "markdown",
      "metadata": {
        "id": "view-in-github",
        "colab_type": "text"
      },
      "source": [
        "<a href=\"https://colab.research.google.com/github/eijung/python-study/blob/main/%EC%A7%9D%EC%88%98_%ED%99%80%EC%88%98_%EA%B0%9C%EC%88%98_%EC%95%8C%EA%B3%A0%EB%A6%AC%EC%A6%98.ipynb\" target=\"_parent\"><img src=\"https://colab.research.google.com/assets/colab-badge.svg\" alt=\"Open In Colab\"/></a>"
      ]
    },
    {
      "cell_type": "markdown",
      "source": [
        "짝수 홀수 개수 알고리즘"
      ],
      "metadata": {
        "id": "HKaJorh0AIdj"
      }
    },
    {
      "cell_type": "code",
      "execution_count": 11,
      "metadata": {
        "colab": {
          "base_uri": "https://localhost:8080/"
        },
        "id": "Ui-Q1l2UixKt",
        "outputId": "beabd709-698b-4e6e-e103-327993f0b9c2"
      },
      "outputs": [
        {
          "output_type": "stream",
          "name": "stdout",
          "text": [
            "10 25 38 49 15 60 75 47 43 24\n",
            "[10, 25, 38, 49, 15, 60, 75, 47, 43, 24]\n",
            "홀수의 개수  6\n",
            "짝수의 개수  4\n"
          ]
        }
      ],
      "source": [
        "#10개의 수 받아서 배열에 넣기\n",
        "# 10 25 38 49 15 60 75 47 43 24\n",
        "numberArr = [*map(int,input().split())]\n",
        "# 배열 값 확인\n",
        "print(numberArr)\n",
        "\n",
        "# 짝수 변수 지정\n",
        "even = 0\n",
        "# 홀수 변수 지정\n",
        "odd = 0\n",
        "\n",
        "# 배열의 개수만큼 for문 실행\n",
        "for number in numberArr:\n",
        "  # 숫자의 나머지가 0 이면 짝수\n",
        "  if number % 2 == 0 :\n",
        "    # if문에 해당 되면 even + 1\n",
        "    even = even + 1\n",
        "#숫자의 나머지가 0 이외 라면 홀수\n",
        "  else :\n",
        "    # if문에 해당 되지 않으면 odd + 1\n",
        "    odd = odd + 1\n",
        "\n",
        "# 짝수, 홀수 개수 화면에 출력\n",
        "print(\"홀수의 개수 \", odd)\n",
        "print(\"짝수의 개수 \", even)"
      ]
    },
    {
      "cell_type": "markdown",
      "source": [
        "ChatGpt와 비교"
      ],
      "metadata": {
        "id": "mhlnxwzOANqg"
      }
    },
    {
      "cell_type": "code",
      "source": [
        "numbers = input(\"10개의 숫자를 입력하세요 (공백으로 구분): \").split()\n",
        "odd_count = 0\n",
        "even_count = 0\n",
        "\n",
        "for number in numbers:\n",
        "    if int(number) % 2 == 0:\n",
        "        even_count += 1\n",
        "    else:\n",
        "        odd_count += 1\n",
        "\n",
        "print(\"홀수의 개수: \", odd_count)\n",
        "print(\"짝수의 개수: \", even_count)"
      ],
      "metadata": {
        "id": "IuYLd_IqAQ0M"
      },
      "execution_count": null,
      "outputs": []
    }
  ]
}