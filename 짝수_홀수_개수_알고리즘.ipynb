{
  "nbformat": 4,
  "nbformat_minor": 0,
  "metadata": {
    "colab": {
      "provenance": [],
      "authorship_tag": "ABX9TyMOnPrJy0t5oqD3jlS6H2Kb",
      "include_colab_link": true
    },
    "kernelspec": {
      "name": "python3",
      "display_name": "Python 3"
    },
    "language_info": {
      "name": "python"
    }
  },
  "cells": [
    {
      "cell_type": "markdown",
      "metadata": {
        "id": "view-in-github",
        "colab_type": "text"
      },
      "source": [
        "<a href=\"https://colab.research.google.com/github/eijung/python-study/blob/main/%EC%A7%9D%EC%88%98_%ED%99%80%EC%88%98_%EA%B0%9C%EC%88%98_%EC%95%8C%EA%B3%A0%EB%A6%AC%EC%A6%98.ipynb\" target=\"_parent\"><img src=\"https://colab.research.google.com/assets/colab-badge.svg\" alt=\"Open In Colab\"/></a>"
      ]
    },
    {
      "cell_type": "code",
      "execution_count": 6,
      "metadata": {
        "colab": {
          "base_uri": "https://localhost:8080/"
        },
        "id": "Ui-Q1l2UixKt",
        "outputId": "add710d6-5521-4209-f77b-7424afa3839a"
      },
      "outputs": [
        {
          "output_type": "stream",
          "name": "stdout",
          "text": [
            "홀수의 개수  5\n",
            "짝수의 개수  5\n"
          ]
        }
      ],
      "source": [
        "# 짝수 변수 지정\n",
        "even = 0\n",
        "# 홀수 변수 지정\n",
        "odd = 0\n",
        "\n",
        "#1부터 10까지 for문 실행\n",
        "for i in range(1, 11):\n",
        "  # 숫자의 나머지가 0 이면 짝수\n",
        "  if i % 2 == 0 :\n",
        "    # if문에 해당 되면 even + 1\n",
        "    even = even + 1\n",
        "#숫자의 나머지가 0 이외 라면 홀수\n",
        "  else :\n",
        "    # if문에 해당 되지 않으면 odd + 1\n",
        "    odd = odd + 1\n",
        "\n",
        "# 짝수, 홀수 개수 화면에 출력\n",
        "print(\"홀수의 개수 \", odd)\n",
        "print(\"짝수의 개수 \", odd)"
      ]
    }
  ]
}